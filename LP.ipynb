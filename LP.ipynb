{
 "cells": [
  {
   "cell_type": "code",
   "execution_count": 5,
   "metadata": {},
   "outputs": [],
   "source": [
    "from cvxopt import matrix, solvers\n",
    "import numpy as np"
   ]
  },
  {
   "cell_type": "markdown",
   "metadata": {},
   "source": [
    "# Problem 1"
   ]
  },
  {
   "cell_type": "code",
   "execution_count": 6,
   "metadata": {},
   "outputs": [
    {
     "name": "stdout",
     "output_type": "stream",
     "text": [
      "     pcost       dcost       gap    pres   dres   k/t\n",
      " 0: -2.2643e+01 -2.2643e+01  5e+00  2e-01  1e-16  1e+00\n",
      " 1: -2.2173e+01 -2.2198e+01  4e-01  2e-02  3e-16  6e-02\n",
      " 2: -2.2002e+01 -2.2002e+01  5e-03  2e-04  3e-15  9e-04\n",
      " 3: -2.2000e+01 -2.2000e+01  5e-05  2e-06  1e-15  9e-06\n",
      " 4: -2.2000e+01 -2.2000e+01  5e-07  2e-08  8e-16  9e-08\n",
      "Optimal solution found.\n"
     ]
    }
   ],
   "source": [
    "c = matrix([-4.0, -5.0])\n",
    "A = matrix([[2.0, 1.0, 0.0], [1.0, 2.0, 1.0]])\n",
    "b = matrix([8.0, 7.0, 3.0])\n",
    "sol=solvers.lp(c,A,b)"
   ]
  },
  {
   "cell_type": "code",
   "execution_count": 7,
   "metadata": {},
   "outputs": [
    {
     "name": "stdout",
     "output_type": "stream",
     "text": [
      "[ 3.00e+00]\n",
      "[ 2.00e+00]\n",
      "\n"
     ]
    }
   ],
   "source": [
    "print(sol['x'])"
   ]
  },
  {
   "cell_type": "markdown",
   "metadata": {},
   "source": [
    "# Problem 2"
   ]
  },
  {
   "cell_type": "code",
   "execution_count": 8,
   "metadata": {},
   "outputs": [
    {
     "name": "stdout",
     "output_type": "stream",
     "text": [
      "     pcost       dcost       gap    pres   dres   k/t\n",
      " 0: -1.7537e+03 -4.6124e+03  1e+03  1e-01  1e+00  1e+00\n",
      " 1: -1.9002e+03 -3.3677e+03  6e+02  6e-02  7e-01  1e+01\n",
      " 2: -2.0503e+03 -3.6352e+03  9e+02  7e-02  8e-01  4e+01\n",
      " 3: -2.1014e+03 -2.1512e+03  2e+01  2e-03  3e-02  3e+00\n",
      " 4: -2.1000e+03 -2.1005e+03  2e-01  2e-05  3e-04  3e-02\n",
      " 5: -2.1000e+03 -2.1000e+03  2e-03  2e-07  3e-06  3e-04\n",
      " 6: -2.1000e+03 -2.1000e+03  2e-05  2e-09  3e-08  3e-06\n",
      "Optimal solution found.\n"
     ]
    }
   ],
   "source": [
    "c = matrix([-10.0, -12.0, -20.0])\n",
    "A = matrix([[1.0, 1.0, 2.0, 2.0, -1.0, 0.0, 0.0], \n",
    "            [2.0, 0.0, 1.0, 3.0, 0.0, -1.0, 0.0], \n",
    "            [0.0, 2.0, 0.0, 1.0, 0.0, 0.0, -1.0]])\n",
    "b = matrix([150.0, 150.0, 80.0, 225.0, 0.0, 0.0, 0.0])\n",
    "sol=solvers.lp(c,A,b)"
   ]
  },
  {
   "cell_type": "code",
   "execution_count": 9,
   "metadata": {},
   "outputs": [
    {
     "name": "stdout",
     "output_type": "stream",
     "text": [
      "[[ 0.]\n",
      " [50.]\n",
      " [75.]]\n"
     ]
    }
   ],
   "source": [
    "print(np.round(np.abs(sol['x'])))"
   ]
  },
  {
   "cell_type": "markdown",
   "metadata": {},
   "source": [
    "# Problem 3"
   ]
  },
  {
   "cell_type": "code",
   "execution_count": 10,
   "metadata": {},
   "outputs": [
    {
     "name": "stdout",
     "output_type": "stream",
     "text": [
      "     pcost       dcost       gap    pres   dres   k/t\n",
      " 0: -3.2476e+03 -5.2784e+03  7e+02  0e+00  4e-01  1e+00\n",
      " 1: -3.5884e+03 -3.8092e+03  6e+01  2e-16  5e-02  4e+00\n",
      " 2: -3.5999e+03 -3.6022e+03  6e-01  1e-16  5e-04  4e-02\n",
      " 3: -3.6000e+03 -3.6000e+03  6e-03  8e-17  5e-06  4e-04\n",
      " 4: -3.6000e+03 -3.6000e+03  6e-05  2e-16  5e-08  4e-06\n",
      "Optimal solution found.\n"
     ]
    }
   ],
   "source": [
    "c = matrix([-300.0, -500.0])\n",
    "A = matrix([[1.0, 0.0, 3.0, -1.0, 0.0], [0.0, 2.0, 2.0, 0.0, -1.0]])\n",
    "b = matrix([4.0, 12.0, 18.0, 0.0, 0.0])\n",
    "sol=solvers.lp(c,A,b)"
   ]
  },
  {
   "cell_type": "code",
   "execution_count": 11,
   "metadata": {},
   "outputs": [
    {
     "name": "stdout",
     "output_type": "stream",
     "text": [
      "[[2.]\n",
      " [6.]]\n"
     ]
    }
   ],
   "source": [
    "print(np.round(np.abs(sol['x'])))"
   ]
  },
  {
   "cell_type": "markdown",
   "metadata": {},
   "source": [
    "# Problem 4"
   ]
  },
  {
   "cell_type": "code",
   "execution_count": 15,
   "metadata": {},
   "outputs": [
    {
     "name": "stdout",
     "output_type": "stream",
     "text": [
      "     pcost       dcost       gap    pres   dres   k/t\n",
      " 0: -1.8168e+04 -4.6586e+04  7e+03  5e-02  2e+00  1e+00\n",
      " 1: -1.7963e+04 -2.1005e+04  5e+02  5e-03  2e-01  4e+01\n",
      " 2: -1.7992e+04 -1.9164e+04  2e+02  2e-03  8e-02  2e+01\n",
      " 3: -1.8170e+04 -1.8954e+04  2e+02  1e-03  5e-02  2e+01\n",
      " 4: -1.8182e+04 -1.8249e+04  2e+01  1e-04  4e-03  2e+00\n",
      " 5: -1.8187e+04 -1.8188e+04  2e-01  1e-06  5e-05  2e-02\n",
      " 6: -1.8187e+04 -1.8188e+04  2e-03  1e-08  5e-07  2e-04\n",
      " 7: -1.8187e+04 -1.8188e+04  2e-05  1e-10  5e-09  2e-06\n",
      "Optimal solution found.\n"
     ]
    }
   ],
   "source": [
    "c = matrix([-20.0, -25.0, -15.0, -0.25, -0.25, -0.25])\n",
    "G = matrix([[15.0, -1.0, 0.0, 0.0, 0.0, 0., 0.],\n",
    "            [30.0, 0., -1., 0., 0., 0., 0.],\n",
    "            [10.0, 0., 0., -1., 0., 0.0, 0.],\n",
    "            [0.0, 0., 0., 0., -1., 0., 0.],\n",
    "            [0.0, 0., 0., 0., 0., -1., 0.],\n",
    "            [0.0, 0., 0., 0., 0., 0., -1.]])\n",
    "h = matrix([250 * 60.0, 0., 0., 0., 0., 0., 0.])\n",
    "A = matrix([[5.0, 3.0, 2.0], [5.0, 0., 5.], [2., 0., 4.], [1.0, 0., 0.], [0., 1., 0.], [0., 0., 1.]])\n",
    "b = matrix([3000., 1000., 4000.])\n",
    "sol=solvers.lp(c,G,h, A=A, b=b)"
   ]
  },
  {
   "cell_type": "code",
   "execution_count": 16,
   "metadata": {},
   "outputs": [
    {
     "name": "stdout",
     "output_type": "stream",
     "text": [
      "[[250.]\n",
      " [  0.]\n",
      " [875.]\n",
      " [  0.]\n",
      " [250.]\n",
      " [  0.]]\n"
     ]
    }
   ],
   "source": [
    "print(np.round(sol['x']))"
   ]
  },
  {
   "cell_type": "code",
   "execution_count": 64,
   "metadata": {},
   "outputs": [
    {
     "name": "stdout",
     "output_type": "stream",
     "text": [
      "max profit =  18187.5\n"
     ]
    }
   ],
   "source": [
    "print(\"max profit = \", np.round(-sol['primal objective'], 3))"
   ]
  },
  {
   "cell_type": "markdown",
   "metadata": {},
   "source": [
    "# Problem 5"
   ]
  },
  {
   "cell_type": "code",
   "execution_count": 40,
   "metadata": {},
   "outputs": [
    {
     "name": "stdout",
     "output_type": "stream",
     "text": [
      "     pcost       dcost       gap    pres   dres   k/t\n",
      " 0: -3.5456e+03 -1.9461e+04  3e+04  4e-01  3e-03  1e+00\n",
      " 1: -4.8853e+03 -1.2534e+04  2e+04  2e-01  2e-03  1e+02\n",
      " 2: -5.1679e+03 -1.2762e+04  2e+04  2e-01  2e-03  2e+02\n",
      " 3: -7.5093e+03 -9.5855e+03  5e+03  5e-02  5e-04  8e+01\n",
      " 4: -8.7254e+03 -1.0913e+04  7e+03  6e-02  5e-04  2e+02\n",
      " 5: -1.0877e+04 -1.1031e+04  5e+02  4e-03  4e-05  2e+01\n",
      " 6: -1.0999e+04 -1.1002e+04  1e+01  8e-05  7e-07  3e-01\n",
      " 7: -1.1000e+04 -1.1000e+04  1e-01  8e-07  7e-09  3e-03\n",
      " 8: -1.1000e+04 -1.1000e+04  1e-03  8e-09  7e-11  3e-05\n",
      "Optimal solution found.\n"
     ]
    }
   ],
   "source": [
    "label = [\"tons of apples\", \"juice made from apples\", \"juice fermented\", \"juice sold\", \"cider made from apples\",\n",
    "         \"cider made from juice\", \"cider distilled\", \"cider sold\", \"Calvados sold\"]\n",
    "c = matrix([1500., 0., 0., -4., 0., 0., 0., -8., -10.])\n",
    "G = matrix([[0., 0., 0., -1., 0., 0., 0., 0., 0., 0., 0., 0.], \n",
    "            [0., 0., 0., 0., -1., 0., 0., 0., 0., 0., 0., 0.],\n",
    "            [0., 0., 0., 0., 0., -1., 0., 0., 0., 0., 0., 0.],\n",
    "            [1., 0., 0., 0., 0., 0., -1., 0., 0., 0., 0., 0.],\n",
    "            [0., 0., 0., 0., 0., 0., 0., -1., 0., 0., 0., 0.],\n",
    "            [0., 0., 0., 0., 0., 0., 0., 0., -1., 0., 0., 0.],\n",
    "            [0., 0., 0., 0., 0., 0., 0., 0., 0., -1., 0., 0.],\n",
    "            [0., 1., 0., 0., 0., 0., 0., 0., 0., 0., -1., 0.],\n",
    "            [0., 0., 1., 0., 0., 0., 0., 0., 0., 0., 0., -1.]])\n",
    "h = matrix([5000., 2000., 500., 0., 0., 0., 0., 0., 0., 0., 0., 0.])\n",
    "A = matrix([[1000., 0., 0., 0., 0.],\n",
    "            [-2., 0., 0., 1., 0.],\n",
    "            [0., 0.6, 0., -1., 0.],\n",
    "            [0., 0., 0., -1., 0.],\n",
    "            [-4., 0., 0., 0., 1.],\n",
    "            [0., -1., 0., 0., 1.],\n",
    "            [0., 0., 0.4, 0., -1.],\n",
    "            [0., 0., 0., 0., -1.],\n",
    "            [0., 0., -1., 0., 0.]])\n",
    "b = matrix([0., 0., 0., 0., 0.])\n",
    "sol=solvers.lp(c, G, h, A=A, b=b)"
   ]
  },
  {
   "cell_type": "code",
   "execution_count": 41,
   "metadata": {},
   "outputs": [
    {
     "name": "stdout",
     "output_type": "stream",
     "text": [
      "16.667 tons of apples\n",
      "8333.333 juice made from apples\n",
      "3333.333 juice fermented\n",
      "5000.0 juice sold\n",
      "0.0 cider made from apples\n",
      "2000.0 cider made from juice\n",
      "0.0 cider distilled\n",
      "2000.0 cider sold\n",
      "0.0 Calvados sold\n",
      "Max profit:  11000.0\n"
     ]
    }
   ],
   "source": [
    "for i in range(len(sol['x'])):\n",
    "    print(abs(np.round(sol['x'][i], 3)), label[i])\n",
    "print(\"Max profit: \", -np.round(sol['primal objective']))"
   ]
  },
  {
   "cell_type": "markdown",
   "metadata": {},
   "source": [
    "# Task6"
   ]
  },
  {
   "cell_type": "markdown",
   "metadata": {},
   "source": [
    "Problem:\n",
    "$$\n",
    "\\begin{equation}\n",
    "    \\begin{aligned}\n",
    "        &\\text{minimize } && c^Tx + v \\cdot \\mathbb{1}^Tw \\\\\n",
    "        & s.t. && \\frac1{100} Px + w \\preceq s \\\\\n",
    "        & &&  x  \\succeq d \\\\\n",
    "        & &&  w  \\succeq 0\n",
    "    \\end{aligned}\n",
    "\\end{equation}\n",
    "$$"
   ]
  },
  {
   "cell_type": "code",
   "execution_count": 22,
   "metadata": {},
   "outputs": [
    {
     "name": "stdout",
     "output_type": "stream",
     "text": [
      "     pcost       dcost       gap    pres   dres   k/t\n",
      " 0: -3.7568e+04 -2.7843e+04  4e+04  1e-16  1e+00  1e+00\n",
      " 1: -4.3002e+04 -3.6889e+04  2e+04  3e-16  7e-01  4e+02\n",
      " 2: -4.3865e+04 -4.2017e+04  6e+03  4e-16  2e-01  3e+02\n",
      " 3: -4.7620e+04 -4.6821e+04  2e+03  1e-15  7e-02  2e+02\n",
      " 4: -4.7825e+04 -4.7700e+04  3e+02  1e-15  1e-02  5e+01\n",
      " 5: -4.7998e+04 -4.7997e+04  3e+00  6e-16  1e-04  5e-01\n",
      " 6: -4.8000e+04 -4.8000e+04  3e-02  1e-15  1e-06  5e-03\n",
      " 7: -4.8000e+04 -4.8000e+04  3e-04  1e-15  1e-08  5e-05\n",
      "Optimal solution found.\n"
     ]
    }
   ],
   "source": [
    "n = 2\n",
    "m = 3\n",
    "c = np.array([7.0, 5.0])\n",
    "s = np.array([5000.0, 1000.0, 4000.0])\n",
    "p = np.array([[30,50],\n",
    "     [20,10],\n",
    "     [50,40]])\n",
    "d = np.array([1000.0, 1000.0])\n",
    "v = 1.0\n",
    "\n",
    "profit = matrix(-np.append(c, v * np.ones(m)))\n",
    "A = matrix(np.append(1/100 * p, np.eye(m), 1))\n",
    "G = matrix(-np.eye(m + n))\n",
    "h = matrix(np.append(-d, np.zeros(m)))\n",
    "b = matrix(s)\n",
    "sol=solvers.lp(profit,G,h, A=A, b=b)"
   ]
  },
  {
   "cell_type": "code",
   "execution_count": 23,
   "metadata": {},
   "outputs": [
    {
     "name": "stdout",
     "output_type": "stream",
     "text": [
      "[ 1.00e+03]\n",
      "[ 8.00e+03]\n",
      "[ 7.00e+02]\n",
      "[ 1.95e-06]\n",
      "[ 3.00e+02]\n",
      "\n"
     ]
    }
   ],
   "source": [
    "print(sol['x'])"
   ]
  },
  {
   "cell_type": "code",
   "execution_count": 24,
   "metadata": {},
   "outputs": [
    {
     "name": "stdout",
     "output_type": "stream",
     "text": [
      "max profit =  48000.0\n"
     ]
    }
   ],
   "source": [
    "print(\"max profit = \", np.round(-sol['primal objective'], 3))"
   ]
  },
  {
   "cell_type": "markdown",
   "metadata": {},
   "source": [
    "# Task7"
   ]
  },
  {
   "cell_type": "code",
   "execution_count": 25,
   "metadata": {},
   "outputs": [
    {
     "name": "stdout",
     "output_type": "stream",
     "text": [
      "     pcost       dcost       gap    pres   dres   k/t\n",
      " 0: -1.6964e+04 -4.3616e+04  1e+04  3e-01  8e-01  1e+00\n",
      " 1: -2.1354e+04 -4.2958e+04  2e+04  2e-01  7e-01  3e+02\n",
      " 2: -2.0651e+04 -1.0143e+05  4e+05  8e-01  3e+00  3e+03\n",
      " 3: -2.2093e+04 -2.8105e+04  1e+04  7e-02  2e-01  2e+03\n",
      " 4: -1.8835e+04 -2.3162e+04  6e+03  5e-02  2e-01  6e+02\n",
      " 5: -1.6927e+04 -1.8724e+04  4e+03  2e-02  7e-02  4e+02\n",
      " 6: -1.4302e+04 -1.5034e+04  2e+03  9e-03  3e-02  2e+02\n",
      " 7: -1.2874e+04 -1.2945e+04  2e+02  8e-04  3e-03  1e+01\n",
      " 8: -1.2751e+04 -1.2752e+04  2e+00  8e-06  3e-05  1e-01\n",
      " 9: -1.2750e+04 -1.2750e+04  2e-02  8e-08  3e-07  1e-03\n",
      "10: -1.2750e+04 -1.2750e+04  2e-04  8e-10  3e-09  1e-05\n",
      "Optimal solution found.\n"
     ]
    }
   ],
   "source": [
    "c = matrix([-90., -100., 5., 20., 20.])\n",
    "S = [[0.,    0,  15,  15],\n",
    "    [0.,   15,   0,    5],\n",
    "    [15.,   0,   0,    0],\n",
    "    [0.,   15,   0,    0],\n",
    "    [0.,    0,   5,    0]]\n",
    "lim = np.append(np.eye(2), np.zeros((3, 2)), 0)\n",
    "G = np.append(lim, np.append(S, -np.eye(5), 1), 1)\n",
    "h = np.append([100., 50], np.append(40 * 60 * np.ones(4), np.zeros(5)))\n",
    "\n",
    "G = matrix(G.T)\n",
    "h = matrix(h.T)\n",
    "A = matrix([[1., 0],\n",
    "            [0., 1],\n",
    "            [-1., 0],\n",
    "            [-1., -1],\n",
    "            [-1., -1]])\n",
    "b = matrix([0, 0.])\n",
    "sol=solvers.lp(c, G, h, A=A, b=b)"
   ]
  },
  {
   "cell_type": "code",
   "execution_count": 26,
   "metadata": {},
   "outputs": [
    {
     "name": "stdout",
     "output_type": "stream",
     "text": [
      "[ 1.00e+02]\n",
      "[ 5.00e+01]\n",
      "[ 5.00e+01]\n",
      "[ 2.14e+01]\n",
      "[ 2.86e+01]\n",
      "\n"
     ]
    }
   ],
   "source": [
    "print(sol['x'])"
   ]
  },
  {
   "cell_type": "code",
   "execution_count": 27,
   "metadata": {},
   "outputs": [
    {
     "name": "stdout",
     "output_type": "stream",
     "text": [
      "max profit =  12750.0\n"
     ]
    }
   ],
   "source": [
    "print(\"max profit = \", np.round(-sol['primal objective'], 3))"
   ]
  }
 ],
 "metadata": {
  "kernelspec": {
   "display_name": "Python 3",
   "language": "python",
   "name": "python3"
  },
  "language_info": {
   "codemirror_mode": {
    "name": "ipython",
    "version": 3
   },
   "file_extension": ".py",
   "mimetype": "text/x-python",
   "name": "python",
   "nbconvert_exporter": "python",
   "pygments_lexer": "ipython3",
   "version": "3.6.3"
  }
 },
 "nbformat": 4,
 "nbformat_minor": 2
}
