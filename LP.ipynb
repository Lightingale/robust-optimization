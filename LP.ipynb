{
 "cells": [
  {
   "cell_type": "code",
   "execution_count": 2,
   "metadata": {},
   "outputs": [],
   "source": [
    "from cvxopt import matrix, solvers\n",
    "import numpy as np"
   ]
  },
  {
   "cell_type": "markdown",
   "metadata": {},
   "source": [
    "# Problem 1"
   ]
  },
  {
   "cell_type": "markdown",
   "metadata": {},
   "source": [
    "Problem:\n",
    "$$\n",
    "\\begin{equation}\n",
    "    \\begin{aligned}\n",
    "        &\\text{maximize } && 4x + 5y \\\\\n",
    "        & s.t. && 2x + y \\leqslant 8 \\\\\n",
    "        & &&  x + 2y \\leqslant 7 \\\\\n",
    "        & && y \\leqslant 3 \\\\\n",
    "        & && x, y \\geqslant 0\n",
    "    \\end{aligned}\n",
    "\\end{equation}\n",
    "$$"
   ]
  },
  {
   "cell_type": "code",
   "execution_count": 13,
   "metadata": {},
   "outputs": [
    {
     "name": "stdout",
     "output_type": "stream",
     "text": [
      "     pcost       dcost       gap    pres   dres   k/t\n",
      " 0: -2.0538e+01 -4.8231e+01  1e+01  0e+00  9e-01  1e+00\n",
      " 1: -2.1458e+01 -2.4049e+01  9e-01  2e-16  8e-02  8e-02\n",
      " 2: -2.1993e+01 -2.2046e+01  2e-02  4e-16  2e-03  2e-03\n",
      " 3: -2.2000e+01 -2.2000e+01  2e-04  1e-16  2e-05  2e-05\n",
      " 4: -2.2000e+01 -2.2000e+01  2e-06  1e-16  2e-07  2e-07\n",
      " 5: -2.2000e+01 -2.2000e+01  2e-08  9e-17  2e-09  2e-09\n",
      "Optimal solution found.\n"
     ]
    }
   ],
   "source": [
    "label = [\"m^2 of cucumbers\", \"m^2 of onions\"]\n",
    "c = matrix([-4.0, -5.0])\n",
    "A = matrix([[2.0, 1.0, 0.0, -1.0, 0.0], [1.0, 2.0, 1.0, 0.0, -1.0]])\n",
    "b = matrix([8.0, 7.0, 3.0, 0.0, 0.0])\n",
    "sol=solvers.lp(c,A,b)"
   ]
  },
  {
   "cell_type": "code",
   "execution_count": 14,
   "metadata": {},
   "outputs": [
    {
     "name": "stdout",
     "output_type": "stream",
     "text": [
      "3.0 m^2 of cucumbers\n",
      "2.0 m^2 of onions\n",
      "Max profit:  22.0\n"
     ]
    }
   ],
   "source": [
    "for i in range(len(sol['x'])):\n",
    "    print(abs(np.round(sol['x'][i], 3)), label[i], )\n",
    "print(\"Max profit: \", -np.round(sol['primal objective']))"
   ]
  },
  {
   "cell_type": "markdown",
   "metadata": {},
   "source": [
    "# Problem 2"
   ]
  },
  {
   "cell_type": "markdown",
   "metadata": {},
   "source": [
    "Problem:\n",
    "$$\n",
    "\\begin{equation}\n",
    "    \\begin{aligned}\n",
    "        &\\text{maximize } && 10x + 12y + 20z \\\\\n",
    "        & s.t. && x + 2y \\leqslant 150 \\\\\n",
    "        & &&  x + 2z \\leqslant 150 \\\\\n",
    "        & && 2x + y \\leqslant 80 \\\\\n",
    "        & && 2x + 3y + z \\leqslant 225 \\\\\n",
    "        & && x, y, z \\geqslant 0\n",
    "    \\end{aligned}\n",
    "\\end{equation}\n",
    "$$"
   ]
  },
  {
   "cell_type": "code",
   "execution_count": 15,
   "metadata": {},
   "outputs": [
    {
     "name": "stdout",
     "output_type": "stream",
     "text": [
      "     pcost       dcost       gap    pres   dres   k/t\n",
      " 0: -1.7537e+03 -4.6124e+03  1e+03  1e-01  1e+00  1e+00\n",
      " 1: -1.9002e+03 -3.3677e+03  6e+02  6e-02  7e-01  1e+01\n",
      " 2: -2.0503e+03 -3.6352e+03  9e+02  7e-02  8e-01  4e+01\n",
      " 3: -2.1014e+03 -2.1512e+03  2e+01  2e-03  3e-02  3e+00\n",
      " 4: -2.1000e+03 -2.1005e+03  2e-01  2e-05  3e-04  3e-02\n",
      " 5: -2.1000e+03 -2.1000e+03  2e-03  2e-07  3e-06  3e-04\n",
      " 6: -2.1000e+03 -2.1000e+03  2e-05  2e-09  3e-08  3e-06\n",
      "Optimal solution found.\n"
     ]
    }
   ],
   "source": [
    "label = [\"gallons of Heidelberg sweet\", \"gallons of Heidelberg regular\",\n",
    "        \"gallons of Deutschl. extra dry\"]\n",
    "c = matrix([-10.0, -12.0, -20.0])\n",
    "A = matrix([[1.0, 1.0, 2.0, 2.0, -1.0, 0.0, 0.0], \n",
    "            [2.0, 0.0, 1.0, 3.0, 0.0, -1.0, 0.0], \n",
    "            [0.0, 2.0, 0.0, 1.0, 0.0, 0.0, -1.0]])\n",
    "b = matrix([150.0, 150.0, 80.0, 225.0, 0.0, 0.0, 0.0])\n",
    "sol=solvers.lp(c,A,b)"
   ]
  },
  {
   "cell_type": "code",
   "execution_count": 16,
   "metadata": {},
   "outputs": [
    {
     "name": "stdout",
     "output_type": "stream",
     "text": [
      "0.0 gallons of Heidelberg sweet\n",
      "50.0 gallons of Heidelberg regular\n",
      "75.0 gallons of Deutschl. extra dry\n",
      "Max profit:  2100.0\n"
     ]
    }
   ],
   "source": [
    "for i in range(len(sol['x'])):\n",
    "    print(abs(np.round(sol['x'][i], 3)), label[i], )\n",
    "print(\"Max profit: \", -np.round(sol['primal objective']))"
   ]
  },
  {
   "cell_type": "markdown",
   "metadata": {},
   "source": [
    "# Problem 3"
   ]
  },
  {
   "cell_type": "markdown",
   "metadata": {},
   "source": [
    "Problem:\n",
    "$$\n",
    "\\begin{equation}\n",
    "    \\begin{aligned}\n",
    "        &\\text{maximize } && 300x + 500y \\\\\n",
    "        & s.t. && x \\leqslant 4 \\\\\n",
    "        & &&  2y \\leqslant 12 \\\\\n",
    "        & && 3x + 2y \\leqslant 18 \\\\\n",
    "        & && x, y \\geqslant 0\n",
    "    \\end{aligned}\n",
    "\\end{equation}\n",
    "$$"
   ]
  },
  {
   "cell_type": "code",
   "execution_count": 19,
   "metadata": {},
   "outputs": [
    {
     "name": "stdout",
     "output_type": "stream",
     "text": [
      "     pcost       dcost       gap    pres   dres   k/t\n",
      " 0: -3.2476e+03 -5.2784e+03  7e+02  0e+00  4e-01  1e+00\n",
      " 1: -3.5884e+03 -3.8092e+03  6e+01  2e-16  5e-02  4e+00\n",
      " 2: -3.5999e+03 -3.6022e+03  6e-01  1e-16  5e-04  4e-02\n",
      " 3: -3.6000e+03 -3.6000e+03  6e-03  8e-17  5e-06  4e-04\n",
      " 4: -3.6000e+03 -3.6000e+03  6e-05  2e-16  5e-08  4e-06\n",
      "Optimal solution found.\n"
     ]
    }
   ],
   "source": [
    "label = [\"liters of perfume 1\", \"liters of perfume 2\"]\n",
    "c = matrix([-300.0, -500.0])\n",
    "A = matrix([[1.0, 0.0, 3.0, -1.0, 0.0], [0.0, 2.0, 2.0, 0.0, -1.0]])\n",
    "b = matrix([4.0, 12.0, 18.0, 0.0, 0.0])\n",
    "sol=solvers.lp(c,A,b)"
   ]
  },
  {
   "cell_type": "code",
   "execution_count": 20,
   "metadata": {},
   "outputs": [
    {
     "name": "stdout",
     "output_type": "stream",
     "text": [
      "2.0 liters of perfume 1\n",
      "6.0 liters of perfume 2\n",
      "Max profit:  3600.0\n"
     ]
    }
   ],
   "source": [
    "for i in range(len(sol['x'])):\n",
    "    print(abs(np.round(sol['x'][i], 3)), label[i], )\n",
    "print(\"Max profit: \", -np.round(sol['primal objective']))"
   ]
  },
  {
   "cell_type": "markdown",
   "metadata": {},
   "source": [
    "# Problem 4"
   ]
  },
  {
   "cell_type": "markdown",
   "metadata": {},
   "source": [
    "Problem:\n",
    "$$\n",
    "\\begin{equation}\n",
    "    \\begin{aligned}\n",
    "        &\\text{maximize } && 20x + 25y + 15z + 0.25(a + b + c) \\\\\n",
    "        & s.t. &&  5x + 5y + 2z + a = 3000 \\\\\n",
    "        & && 3x + b = 1000 \\\\\n",
    "        & && 2x + 5y + 4z + c = 4000 \\\\\n",
    "        & && 15x + 30y + 10z \\leqslant 15000 \\\\\n",
    "        & && x, y, z, a, b, c \\geqslant 0\n",
    "    \\end{aligned}\n",
    "\\end{equation}\n",
    "$$"
   ]
  },
  {
   "cell_type": "code",
   "execution_count": 24,
   "metadata": {},
   "outputs": [
    {
     "name": "stdout",
     "output_type": "stream",
     "text": [
      "     pcost       dcost       gap    pres   dres   k/t\n",
      " 0: -1.8168e+04 -4.6586e+04  7e+03  5e-02  2e+00  1e+00\n",
      " 1: -1.7963e+04 -2.1005e+04  5e+02  5e-03  2e-01  4e+01\n",
      " 2: -1.7992e+04 -1.9164e+04  2e+02  2e-03  8e-02  2e+01\n",
      " 3: -1.8170e+04 -1.8954e+04  2e+02  1e-03  5e-02  2e+01\n",
      " 4: -1.8182e+04 -1.8249e+04  2e+01  1e-04  4e-03  2e+00\n",
      " 5: -1.8187e+04 -1.8188e+04  2e-01  1e-06  5e-05  2e-02\n",
      " 6: -1.8187e+04 -1.8188e+04  2e-03  1e-08  5e-07  2e-04\n",
      " 7: -1.8187e+04 -1.8188e+04  2e-05  1e-10  5e-09  2e-06\n",
      "Optimal solution found.\n"
     ]
    }
   ],
   "source": [
    "label = [\"kgs of Abondance\", \"kgs of Beaufort\", \"kgs of Reblochon\",\n",
    "        \"liters of Abondance\", \"liters of Monbeliard\", \"liters of Tarine\"]\n",
    "c = matrix([-20.0, -25.0, -15.0, -0.25, -0.25, -0.25])\n",
    "G = matrix([[15.0, -1.0, 0.0, 0.0, 0.0, 0., 0.],\n",
    "            [30.0, 0., -1., 0., 0., 0., 0.],\n",
    "            [10.0, 0., 0., -1., 0., 0.0, 0.],\n",
    "            [0.0, 0., 0., 0., -1., 0., 0.],\n",
    "            [0.0, 0., 0., 0., 0., -1., 0.],\n",
    "            [0.0, 0., 0., 0., 0., 0., -1.]])\n",
    "h = matrix([250 * 60.0, 0., 0., 0., 0., 0., 0.])\n",
    "A = matrix([[5.0, 3.0, 2.0], [5.0, 0., 5.], [2., 0., 4.], [1.0, 0., 0.], [0., 1., 0.], [0., 0., 1.]])\n",
    "b = matrix([3000., 1000., 4000.])\n",
    "sol=solvers.lp(c,G,h, A=A, b=b)"
   ]
  },
  {
   "cell_type": "code",
   "execution_count": 27,
   "metadata": {},
   "outputs": [
    {
     "name": "stdout",
     "output_type": "stream",
     "text": [
      "250.0 kgs of Abondance\n",
      "0.0 kgs of Beaufort\n",
      "875.0 kgs of Reblochon\n",
      "0.0 liters of Abondance\n",
      "250.0 liters of Monbeliard\n",
      "0.0 liters of Tarine\n",
      "Max profit:  18187.5\n"
     ]
    }
   ],
   "source": [
    "for i in range(len(sol['x'])):\n",
    "    print(abs(np.round(sol['x'][i], 3)), label[i], )\n",
    "print(\"Max profit: \", -np.round(sol['primal objective'], 1))"
   ]
  },
  {
   "cell_type": "markdown",
   "metadata": {},
   "source": [
    "# Problem 5"
   ]
  },
  {
   "cell_type": "markdown",
   "metadata": {},
   "source": [
    "Problem:\n",
    "$$\n",
    "\\begin{equation}\n",
    "    \\begin{aligned}\n",
    "        &\\text{maximize } && -1500a + 4j_3 + 8c_4 + 10calv \\\\\n",
    "        & s.t. &&  1000a - 2j_1 - 4c_1 = 0 \\\\\n",
    "        & && 0.6j_2 - c_2 = 0 \\\\\n",
    "        & && 0.4c_3 - calv = 0 \\\\\n",
    "        & && j_1 - j_2 - j_3 = 0 \\\\\n",
    "        & && c_1 + c_2 - c_3 - c_4 = 0 \\\\\n",
    "        & && j_3 \\leqslant 5000 \\\\\n",
    "        & && c_4 \\leqslant 2000 \\\\\n",
    "        & && calv \\leqslant 500 \\\\\n",
    "        & && a, j_1, j_2, j_3, c_1, c_2, c_3, c_4, calv \\geqslant 0\n",
    "    \\end{aligned}\n",
    "\\end{equation}\n",
    "$$"
   ]
  },
  {
   "cell_type": "code",
   "execution_count": 39,
   "metadata": {},
   "outputs": [
    {
     "name": "stdout",
     "output_type": "stream",
     "text": [
      "     pcost       dcost       gap    pres   dres   k/t\n",
      " 0: -3.5456e+03 -1.9461e+04  3e+04  4e-01  3e-03  1e+00\n",
      " 1: -4.8853e+03 -1.2534e+04  2e+04  2e-01  2e-03  1e+02\n",
      " 2: -5.1679e+03 -1.2762e+04  2e+04  2e-01  2e-03  2e+02\n",
      " 3: -7.5093e+03 -9.5855e+03  5e+03  5e-02  5e-04  8e+01\n",
      " 4: -8.7254e+03 -1.0913e+04  7e+03  6e-02  5e-04  2e+02\n",
      " 5: -1.0877e+04 -1.1031e+04  5e+02  4e-03  4e-05  2e+01\n",
      " 6: -1.0999e+04 -1.1002e+04  1e+01  8e-05  7e-07  3e-01\n",
      " 7: -1.1000e+04 -1.1000e+04  1e-01  8e-07  7e-09  3e-03\n",
      " 8: -1.1000e+04 -1.1000e+04  1e-03  8e-09  7e-11  3e-05\n",
      "Optimal solution found.\n"
     ]
    }
   ],
   "source": [
    "label = [\"tons of apples\", \"juice made from apples\", \"juice fermented\", \"juice sold\", \"cider made from apples\",\n",
    "         \"cider made from juice\", \"cider distilled\", \"cider sold\", \"Calvados sold\"]\n",
    "c = matrix([1500., 0., 0., -4., 0., 0., 0., -8., -10.])\n",
    "G = matrix([[0., 0., 0., -1., 0., 0., 0., 0., 0., 0., 0., 0.], \n",
    "            [0., 0., 0., 0., -1., 0., 0., 0., 0., 0., 0., 0.],\n",
    "            [0., 0., 0., 0., 0., -1., 0., 0., 0., 0., 0., 0.],\n",
    "            [1., 0., 0., 0., 0., 0., -1., 0., 0., 0., 0., 0.],\n",
    "            [0., 0., 0., 0., 0., 0., 0., -1., 0., 0., 0., 0.],\n",
    "            [0., 0., 0., 0., 0., 0., 0., 0., -1., 0., 0., 0.],\n",
    "            [0., 0., 0., 0., 0., 0., 0., 0., 0., -1., 0., 0.],\n",
    "            [0., 1., 0., 0., 0., 0., 0., 0., 0., 0., -1., 0.],\n",
    "            [0., 0., 1., 0., 0., 0., 0., 0., 0., 0., 0., -1.]])\n",
    "h = matrix([5000., 2000., 500., 0., 0., 0., 0., 0., 0., 0., 0., 0.])\n",
    "A = matrix([[1000., 0., 0., 0., 0.],\n",
    "            [-2., 0., 0., 1., 0.],\n",
    "            [0., 0.6, 0., -1., 0.],\n",
    "            [0., 0., 0., -1., 0.],\n",
    "            [-4., 0., 0., 0., 1.],\n",
    "            [0., -1., 0., 0., 1.],\n",
    "            [0., 0., 0.4, 0., -1.],\n",
    "            [0., 0., 0., 0., -1.],\n",
    "            [0., 0., -1., 0., 0.]])\n",
    "b = matrix([0., 0., 0., 0., 0.])\n",
    "sol=solvers.lp(c, G, h, A=A, b=b)"
   ]
  },
  {
   "cell_type": "code",
   "execution_count": 40,
   "metadata": {},
   "outputs": [
    {
     "name": "stdout",
     "output_type": "stream",
     "text": [
      "16.667 tons of apples\n",
      "8333.333 juice made from apples\n",
      "3333.333 juice fermented\n",
      "5000.0 juice sold\n",
      "0.0 cider made from apples\n",
      "2000.0 cider made from juice\n",
      "0.0 cider distilled\n",
      "2000.0 cider sold\n",
      "0.0 Calvados sold\n",
      "Max profit:  11000.0\n"
     ]
    }
   ],
   "source": [
    "for i in range(len(sol['x'])):\n",
    "    print(abs(np.round(sol['x'][i], 3)), label[i])\n",
    "print(\"Max profit: \", -np.round(sol['primal objective']))"
   ]
  },
  {
   "cell_type": "markdown",
   "metadata": {},
   "source": [
    "# Problem 6"
   ]
  },
  {
   "cell_type": "markdown",
   "metadata": {},
   "source": [
    "Problem:\n",
    "$$\n",
    "\\begin{equation}\n",
    "    \\begin{aligned}\n",
    "        &\\text{maximize } && c^Tx + v \\cdot \\mathbb{1}^Tw \\\\\n",
    "        & s.t. && \\frac1{100} Px + w \\preceq s \\\\\n",
    "        & &&  x  \\succeq d \\\\\n",
    "        & &&  w  \\succeq 0\n",
    "    \\end{aligned}\n",
    "\\end{equation}\n",
    "$$"
   ]
  },
  {
   "cell_type": "code",
   "execution_count": 41,
   "metadata": {},
   "outputs": [
    {
     "name": "stdout",
     "output_type": "stream",
     "text": [
      "     pcost       dcost       gap    pres   dres   k/t\n",
      " 0: -3.7568e+04 -2.7843e+04  4e+04  1e-16  1e+00  1e+00\n",
      " 1: -4.3002e+04 -3.6889e+04  2e+04  3e-16  7e-01  4e+02\n",
      " 2: -4.3865e+04 -4.2017e+04  6e+03  4e-16  2e-01  3e+02\n",
      " 3: -4.7620e+04 -4.6821e+04  2e+03  1e-15  7e-02  2e+02\n",
      " 4: -4.7825e+04 -4.7700e+04  3e+02  1e-15  1e-02  5e+01\n",
      " 5: -4.7998e+04 -4.7997e+04  3e+00  6e-16  1e-04  5e-01\n",
      " 6: -4.8000e+04 -4.8000e+04  3e-02  1e-15  1e-06  5e-03\n",
      " 7: -4.8000e+04 -4.8000e+04  3e-04  1e-15  1e-08  5e-05\n",
      "Optimal solution found.\n"
     ]
    }
   ],
   "source": [
    "n = 2\n",
    "m = 3\n",
    "c = np.array([7.0, 5.0])\n",
    "s = np.array([5000.0, 1000.0, 4000.0])\n",
    "p = np.array([[30,50],\n",
    "     [20,10],\n",
    "     [50,40]])\n",
    "d = np.array([1000.0, 1000.0])\n",
    "v = 1.0\n",
    "\n",
    "profit = matrix(-np.append(c, v * np.ones(m)))\n",
    "A = matrix(np.append(1/100 * p, np.eye(m), 1))\n",
    "G = matrix(-np.eye(m + n))\n",
    "h = matrix(np.append(-d, np.zeros(m)))\n",
    "b = matrix(s)\n",
    "sol=solvers.lp(profit,G,h, A=A, b=b)"
   ]
  },
  {
   "cell_type": "code",
   "execution_count": 42,
   "metadata": {},
   "outputs": [
    {
     "name": "stdout",
     "output_type": "stream",
     "text": [
      "1000.0 liters of wine 1\n",
      "8000.0 liters of wine 2\n",
      "700.0 liters of wine 3\n",
      "0.0 liters of wine 4\n",
      "300.0 liters of wine 5\n",
      "Max profit:  48000.0\n"
     ]
    }
   ],
   "source": [
    "for i in range(len(sol['x'])):\n",
    "    print(f\"{np.round(sol['x'][i])} liters of wine {i+1}\")\n",
    "print(\"Max profit: \", -np.round(sol['primal objective']))"
   ]
  },
  {
   "cell_type": "markdown",
   "metadata": {},
   "source": [
    "# Problem 7"
   ]
  },
  {
   "cell_type": "markdown",
   "metadata": {},
   "source": [
    "Problem:\n",
    "$$\n",
    "\\begin{equation}\n",
    "    \\begin{aligned}\n",
    "        &\\text{maximize } && 90p + 100q - 5mp_1 - 20mp_2 -20mp_3\\\\\n",
    "        & s.t. && 15mp_1 \\leqslant  2400 \\\\\n",
    "        & && 15q + 15mp_2 \\leqslant 2400 \\\\\n",
    "        & && 15p + 5mp_3 \\leqslant 2400 \\\\\n",
    "        & && 15p + 5q \\leqslant 2400 \\\\\n",
    "        & && p - mp_1 \\leqslant 0 \\\\\n",
    "        & && p + q - mp_2 \\leqslant 0 \\\\\n",
    "        & && p + q - mp_3 \\leqslant 0 \\\\\n",
    "        & && p, q, mp_1, mp_2, mp_3 \\geqslant 0\n",
    "    \\end{aligned}\n",
    "\\end{equation}\n",
    "$$"
   ]
  },
  {
   "cell_type": "code",
   "execution_count": 71,
   "metadata": {},
   "outputs": [
    {
     "name": "stdout",
     "output_type": "stream",
     "text": [
      "     pcost       dcost       gap    pres   dres   k/t\n",
      " 0: -1.3075e+04 -1.2289e+05  3e+04  1e-01  4e+00  1e+00\n",
      " 1: -6.5453e+03 -2.0555e+05  2e+05  2e-01  7e+00  3e+03\n",
      " 2: -7.5079e+03 -3.8021e+04  1e+04  3e-02  1e+00  3e+03\n",
      " 3: -6.2821e+03 -1.0220e+04  9e+02  4e-03  1e-01  3e+02\n",
      " 4: -6.3640e+03 -8.2463e+03  6e+02  2e-03  7e-02  1e+02\n",
      " 5: -6.2902e+03 -6.5380e+03  9e+01  2e-04  8e-03  5e+00\n",
      " 6: -6.2999e+03 -6.3027e+03  1e+00  3e-06  9e-05  5e-02\n",
      " 7: -6.3000e+03 -6.3000e+03  1e-02  3e-08  9e-07  5e-04\n",
      " 8: -6.3000e+03 -6.3000e+03  1e-04  3e-10  9e-09  5e-06\n",
      "Optimal solution found.\n"
     ]
    }
   ],
   "source": [
    "label = [\"of product P\", \"of product Q\", \"of product MP1\", \n",
    "        \"of product MP2\", \"of product MP3\"]\n",
    "c = matrix([-90., -100., 5., 20., 20.])\n",
    "S = [[0.,    0,  15,  15],\n",
    "    [0.,   15,   0,    5],\n",
    "    [15.,   0,   0,    0],\n",
    "    [0.,   15,   0,    0],\n",
    "    [0.,    0,   5,    0]]\n",
    "lim = np.append(np.eye(2), np.zeros((3, 2)), 0)\n",
    "lim2 = [[1.0, 1.0, 1.0],\n",
    "        [0.0, 1.0, 1.0],\n",
    "        [-1.0, 0.0, 0.0],\n",
    "        [0.0, -1.0, 0.0],\n",
    "        [0.0, 0.0, -1.0]]\n",
    "G = np.append(np.append(lim, np.append(S, -np.eye(5), 1), 1), lim2, 1)\n",
    "h = np.append([100., 50], np.append(40 * 60 * np.ones(4), np.zeros(8)))\n",
    "\n",
    "G = matrix(G.T)\n",
    "h = matrix(h.T)\n",
    "sol=solvers.lp(c, G, h)"
   ]
  },
  {
   "cell_type": "code",
   "execution_count": 73,
   "metadata": {},
   "outputs": [
    {
     "name": "stdout",
     "output_type": "stream",
     "text": [
      "100.0 of product P\n",
      "30.0 of product Q\n",
      "100.0 of product MP1\n",
      "130.0 of product MP2\n",
      "130.0 of product MP3\n",
      "Max profit:  6300.0\n"
     ]
    }
   ],
   "source": [
    "for i in range(len(sol['x'])):\n",
    "    print(abs(np.round(sol['x'][i], 3)), label[i])\n",
    "print(\"Max profit: \", -np.round(sol['primal objective']))"
   ]
  }
 ],
 "metadata": {
  "kernelspec": {
   "display_name": "Python 3",
   "language": "python",
   "name": "python3"
  },
  "language_info": {
   "codemirror_mode": {
    "name": "ipython",
    "version": 3
   },
   "file_extension": ".py",
   "mimetype": "text/x-python",
   "name": "python",
   "nbconvert_exporter": "python",
   "pygments_lexer": "ipython3",
   "version": "3.6.3"
  }
 },
 "nbformat": 4,
 "nbformat_minor": 2
}
